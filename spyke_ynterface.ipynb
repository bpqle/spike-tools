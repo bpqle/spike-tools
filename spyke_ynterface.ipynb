{
 "cells": [
  {
   "cell_type": "code",
   "execution_count": 1,
   "id": "0b16313b-7f95-4a5d-a0fa-bbe587486622",
   "metadata": {},
   "outputs": [
    {
     "name": "stdout",
     "output_type": "stream",
     "text": [
      "SpikeInterface version: 0.100.6\n"
     ]
    }
   ],
   "source": [
    "import spikeinterface.full as si\n",
    "print(f\"SpikeInterface version: {si.__version__}\")\n",
    "from probeinterface import get_probe\n",
    "from probeinterface.plotting import plot_probe\n",
    "\n",
    "import os\n",
    "import matplotlib\n",
    "import numpy as np\n",
    "from pathlib import Path\n",
    "import ipywidgets as widgets\n",
    "import matplotlib.pyplot as plt\n",
    "\n",
    "import warnings\n",
    "warnings.simplefilter(\"ignore\")"
   ]
  },
  {
   "cell_type": "code",
   "execution_count": 2,
   "id": "47ab5502-f953-48a1-83e7-6e9268afbbb3",
   "metadata": {},
   "outputs": [
    {
     "name": "stdout",
     "output_type": "stream",
     "text": [
      "Setting KILOSORT2_5_PATH environment variable for subprocess calls to: /home/bple/projects/Kilosort-2.5.2\n",
      "Setting IRONCLUST_PATH environment variable for subprocess calls to: /home/bple/projects/ironclust\n"
     ]
    },
    {
     "data": {
      "text/plain": [
       "['ironclust',\n",
       " 'kilosort2_5',\n",
       " 'kilosort4',\n",
       " 'mountainsort5',\n",
       " 'spykingcircus',\n",
       " 'spykingcircus2',\n",
       " 'tridesclous2']"
      ]
     },
     "execution_count": 2,
     "metadata": {},
     "output_type": "execute_result"
    }
   ],
   "source": [
    "kilosort_25_path = '/home/bple/projects/Kilosort-2.5.2/'\n",
    "irc_path = '/home/bple/projects/ironclust/'\n",
    "si.Kilosort2_5Sorter.set_kilosort2_5_path(kilosort_25_path)\n",
    "si.IronClustSorter.set_ironclust_path(irc_path)\n",
    "si.installed_sorters()"
   ]
  },
  {
   "cell_type": "code",
   "execution_count": 3,
   "id": "d42b85e3-a99e-4e2a-b484-4135e8e8d77b",
   "metadata": {},
   "outputs": [],
   "source": [
    "# method = 'kilosort4'\n",
    "# dker = True\n",
    "# params = si.get_default_sorter_params(method)\n",
    "# params['Th_universal'] = 5\n",
    "# params['Th_learned'] = 4\n",
    "# params['min_template_size'] = 20\n",
    "# params['nblocks'] = 0\n",
    "# params['skip_kilosort_preprocessing'] = True"
   ]
  },
  {
   "cell_type": "code",
   "execution_count": 4,
   "id": "3a6f59a7-8bcd-4f11-83e4-476dcde04cb8",
   "metadata": {},
   "outputs": [],
   "source": [
    "# method = 'kilosort2_5'\n",
    "# dker = True\n",
    "# params = si.get_default_sorter_params(method)\n",
    "# params['nblocks'] = 0"
   ]
  },
  {
   "cell_type": "code",
   "execution_count": 5,
   "id": "4d5c8f86-237f-4153-b08a-3a17268ad138",
   "metadata": {},
   "outputs": [],
   "source": [
    "# si.get_default_sorter_params(method)"
   ]
  },
  {
   "cell_type": "code",
   "execution_count": 6,
   "id": "9ebdd3f8-1c09-4a2e-a0fa-4efb41ced35e",
   "metadata": {},
   "outputs": [],
   "source": [
    "method = 'mountainsort5'\n",
    "dker = False\n",
    "params = si.get_default_sorter_params(method)\n",
    "params['detect_threshold'] = 4.0\n",
    "params['detect_time_radius_msec'] = 1.5\n",
    "params['filter'] = False\n",
    "params['scheme2_training_duration_sec'] = 400\n",
    "params['npca_per_subdivision'] = 8"
   ]
  },
  {
   "cell_type": "code",
   "execution_count": 7,
   "id": "10030f92-518d-49c4-b85a-2f82beb4bbf5",
   "metadata": {},
   "outputs": [],
   "source": [
    "# method = 'spykingcircus'\n",
    "# dker = True\n",
    "# params = si.get_default_sorter_params(method)\n",
    "# params['filter'] = False\n",
    "# params['detect_threshold'] = 5"
   ]
  },
  {
   "cell_type": "code",
   "execution_count": 8,
   "id": "8927bc27-2689-4273-8ed4-abacadd610dc",
   "metadata": {},
   "outputs": [],
   "source": [
    "# method = 'waveclus'\n",
    "# dker = True\n",
    "# params = si.get_default_sorter_params(method)"
   ]
  },
  {
   "cell_type": "code",
   "execution_count": 9,
   "id": "f3ec0e54-004c-4b65-b3dd-0c89d034bcfe",
   "metadata": {},
   "outputs": [],
   "source": [
    "## Dimensions must match error\n",
    "# method = 'ironclust'\n",
    "# dker = True\n",
    "# params = si.get_default_sorter_params(method)\n",
    "# params['whiten'] = True\n",
    "# params['filter'] = False\n",
    "# params['freq_max'] = 6000"
   ]
  },
  {
   "cell_type": "code",
   "execution_count": 10,
   "id": "2e545dd1-c432-4ca5-8c4a-6c7af4a8e10b",
   "metadata": {},
   "outputs": [],
   "source": [
    "base_folder = Path('.')\n",
    "oe_folder = Path(base_folder / './C49_2024-05-15_10-50-44_ar-nat8b')\n",
    "\n",
    "sort_folder = Path(base_folder / 'sorting-data')\n",
    "preprocess_folder = Path(sort_folder / 'preprocess')\n",
    "sort_output_folder = Path(sort_folder / f'{method}-results')\n",
    "waveform_folder = Path(sort_folder / \"waveforms\")\n",
    "phy_output_folder = Path(sort_folder / f'phy-{method}')"
   ]
  },
  {
   "cell_type": "code",
   "execution_count": 11,
   "id": "43fd2aea-b487-435a-aae3-3c71d5b9ac03",
   "metadata": {},
   "outputs": [],
   "source": [
    "n_cpus = os.cpu_count()\n",
    "n_jobs = n_cpus - 4\n",
    "job_kwargs = dict(n_jobs=n_jobs, progress_bar=True)\n",
    "si.set_global_job_kwargs(**job_kwargs)"
   ]
  },
  {
   "cell_type": "code",
   "execution_count": 12,
   "id": "f16462b5-d4f4-45c2-b51a-6f6799bf6fbb",
   "metadata": {},
   "outputs": [
    {
     "data": {
      "text/plain": [
       "OpenEphysBinaryRecordingExtractor: 40 channels - 30.0kHz - 1 segments - 82,394,880 samples \n",
       "                                   2,746.50s (45.77 minutes) - int16 dtype - 6.14 GiB"
      ]
     },
     "execution_count": 12,
     "metadata": {},
     "output_type": "execute_result"
    }
   ],
   "source": [
    "full_raw_rec = si.read_openephys(oe_folder)\n",
    "full_raw_rec"
   ]
  },
  {
   "cell_type": "code",
   "execution_count": 13,
   "id": "3da1baa8-a6a0-4de4-b4b0-7945d49316cb",
   "metadata": {},
   "outputs": [],
   "source": [
    "# Import premade probe\n",
    "manufacturer = 'neuronexus'\n",
    "model = 'A4x8-5mm-100-400-703'\n",
    "probe = get_probe(manufacturer, model)\n",
    "probe.wiring_to_device('ASSY-116>RHD2132')"
   ]
  },
  {
   "cell_type": "code",
   "execution_count": 14,
   "id": "436672aa-4ee3-46f1-b289-48ed2074c1ec",
   "metadata": {},
   "outputs": [],
   "source": [
    "raw_rec = full_raw_rec.set_probe(probe)\n",
    "recording_f = si.bandpass_filter(raw_rec, freq_min=300, freq_max=6000)\n",
    "recording_cmr = si.common_reference(recording_f, reference='global', operator='median')"
   ]
  },
  {
   "cell_type": "code",
   "execution_count": 15,
   "id": "35218985-db37-46be-ad0a-53ad64f357a8",
   "metadata": {},
   "outputs": [],
   "source": [
    "# %matplotlib ipympl\n",
    "# w = si.plot_traces({\"raw\": raw_rec, \"filtered\": recording_f, \"common\": recording_cmr}, mode='map',\n",
    "#                    time_range=[10, 10.1], backend=\"ipywidgets\")"
   ]
  },
  {
   "cell_type": "code",
   "execution_count": 16,
   "id": "60ac6a44-0530-4b43-81f9-e2a26f0fca8e",
   "metadata": {},
   "outputs": [],
   "source": [
    "if preprocess_folder.is_dir():\n",
    "    recording_saved = si.load_extractor(preprocess_folder)\n",
    "else:\n",
    "    recording_saved = recording_cmr.save(folder=preprocess_folder, overwrite=False)\n",
    "    print(f'Saved channels ids:\\n{recording_saved.get_channel_ids()}')"
   ]
  },
  {
   "cell_type": "code",
   "execution_count": 17,
   "id": "4e58e63e-b618-4188-9b5d-5f7cdc691085",
   "metadata": {},
   "outputs": [
    {
     "name": "stdout",
     "output_type": "stream",
     "text": [
      "whitening\n",
      "write_binary_recording with n_jobs = 8 and chunk_size = 30000\n"
     ]
    },
    {
     "data": {
      "application/vnd.jupyter.widget-view+json": {
       "model_id": "e159af18ba7047ff93dea167ecc37be3",
       "version_major": 2,
       "version_minor": 0
      },
      "text/plain": [
       "write_binary_recording:   0%|          | 0/2747 [00:00<?, ?it/s]"
      ]
     },
     "metadata": {},
     "output_type": "display_data"
    },
    {
     "name": "stdout",
     "output_type": "stream",
     "text": [
      "Using training recording of duration 400 sec with the sampling mode uniform\n",
      "*** MS5 Elapsed time for SCHEME2 get_sampled_recording_for_training: 1.512 seconds ***\n",
      "Running phase 1 sorting\n",
      "Number of channels: 32\n",
      "Number of timepoints: 12000000\n",
      "Sampling frequency: 30000.0 Hz\n",
      "Channel 0: [800.   0.]\n",
      "Channel 1: [800. 200.]\n",
      "Channel 2: [800. 400.]\n",
      "Channel 3: [800. 600.]\n",
      "Channel 4: [1200.    0.]\n",
      "Channel 5: [1200.  200.]\n",
      "Channel 6: [1200.  400.]\n",
      "Channel 7: [1200.  600.]\n",
      "Channel 8: [1200.  700.]\n",
      "Channel 9: [1200.  500.]\n",
      "Channel 10: [1200.  300.]\n",
      "Channel 11: [1200.  100.]\n",
      "Channel 12: [800. 700.]\n",
      "Channel 13: [800. 500.]\n",
      "Channel 14: [800. 300.]\n",
      "Channel 15: [800. 100.]\n",
      "Channel 16: [400. 700.]\n",
      "Channel 17: [400. 500.]\n",
      "Channel 18: [400. 300.]\n",
      "Channel 19: [400. 100.]\n",
      "Channel 20: [  0. 700.]\n",
      "Channel 21: [  0. 500.]\n",
      "Channel 22: [  0. 300.]\n",
      "Channel 23: [  0. 100.]\n",
      "Channel 24: [0. 0.]\n",
      "Channel 25: [  0. 200.]\n",
      "Channel 26: [  0. 400.]\n",
      "Channel 27: [  0. 600.]\n",
      "Channel 28: [400.   0.]\n",
      "Channel 29: [400. 200.]\n",
      "Channel 30: [400. 400.]\n",
      "Channel 31: [400. 600.]\n",
      "Loading traces\n",
      "*** MS5 Elapsed time for load_traces: 0.000 seconds ***\n",
      "Detecting spikes\n",
      "\n",
      "Adjacency for detect spikes with channel radius 200\n",
      "[[0, 1, 15], [0, 1, 2, 14, 15], [1, 2, 3, 13, 14], [2, 3, 12, 13], [4, 5, 11], [4, 5, 6, 10, 11], [5, 6, 7, 9, 10], [6, 7, 8, 9], [7, 8, 9], [6, 7, 8, 9, 10], [5, 6, 9, 10, 11], [4, 5, 10, 11], [3, 12, 13], [2, 3, 12, 13, 14], [1, 2, 13, 14, 15], [0, 1, 14, 15], [16, 17, 31], [16, 17, 18, 30, 31], [17, 18, 19, 29, 30], [18, 19, 28, 29], [20, 21, 27], [20, 21, 22, 26, 27], [21, 22, 23, 25, 26], [22, 23, 24, 25], [23, 24, 25], [22, 23, 24, 25, 26], [21, 22, 25, 26, 27], [20, 21, 26, 27], [19, 28, 29], [18, 19, 28, 29, 30], [17, 18, 29, 30, 31], [16, 17, 30, 31]]\n",
      "\n",
      "m = 0 (nbhd size: 3)\n",
      "m = 1 (nbhd size: 5)\n",
      "m = 2 (nbhd size: 5)\n",
      "m = 3 (nbhd size: 4)\n",
      "m = 4 (nbhd size: 3)\n",
      "m = 5 (nbhd size: 5)\n",
      "m = 6 (nbhd size: 5)\n",
      "m = 7 (nbhd size: 4)\n",
      "m = 8 (nbhd size: 3)\n",
      "m = 9 (nbhd size: 5)\n",
      "m = 10 (nbhd size: 5)\n",
      "m = 11 (nbhd size: 4)\n",
      "m = 12 (nbhd size: 3)\n",
      "m = 13 (nbhd size: 5)\n",
      "m = 14 (nbhd size: 5)\n",
      "m = 15 (nbhd size: 4)\n",
      "m = 16 (nbhd size: 3)\n",
      "m = 17 (nbhd size: 5)\n",
      "m = 18 (nbhd size: 5)\n",
      "m = 19 (nbhd size: 4)\n",
      "m = 20 (nbhd size: 3)\n",
      "m = 21 (nbhd size: 5)\n",
      "m = 22 (nbhd size: 5)\n",
      "m = 23 (nbhd size: 4)\n",
      "m = 24 (nbhd size: 3)\n",
      "m = 25 (nbhd size: 5)\n",
      "m = 26 (nbhd size: 5)\n",
      "m = 27 (nbhd size: 4)\n",
      "m = 28 (nbhd size: 3)\n",
      "m = 29 (nbhd size: 5)\n",
      "m = 30 (nbhd size: 5)\n",
      "m = 31 (nbhd size: 4)\n",
      "Detected 253299 spikes\n",
      "*** MS5 Elapsed time for detect_spikes: 6.392 seconds ***\n",
      "Removing duplicate times\n",
      "*** MS5 Elapsed time for remove_duplicate_times: 0.004 seconds ***\n",
      "Extracting 247163 snippets\n",
      "*** MS5 Elapsed time for extract_snippets: 2.953 seconds ***\n",
      "Computing PCA features with npca=96\n",
      "*** MS5 Elapsed time for compute_pca_features: 16.316 seconds ***\n",
      "Isosplit6 clustering with npca_per_subdivision=8\n",
      "Found 35 clusters\n",
      "*** MS5 Elapsed time for isosplit6_subdivision_method: 58.043 seconds ***\n",
      "Computing templates\n",
      "*** MS5 Elapsed time for compute_templates: 4.388 seconds ***\n",
      "Determining optimal alignment of templates\n",
      "Template alignment converged.\n",
      "Align templates offsets:  [-1  0 -2  0  5  0  0 -5  3 -8 -4 -3 -2  3  3  0  0 -8 -3  0  1 -3  4 -6\n",
      " 12 -1 -5  0  0  0  8  4  0 12 -3]\n",
      "*** MS5 Elapsed time for align_templates: 0.788 seconds ***\n",
      "Aligning snippets\n",
      "*** MS5 Elapsed time for align_snippets: 2.148 seconds ***\n",
      "Clustering aligned snippets\n",
      "Computing PCA features with npca=96\n",
      "*** MS5 Elapsed time for compute_pca_features: 18.056 seconds ***\n",
      "Isosplit6 clustering with npca_per_subdivision=8\n",
      "*** MS5 Elapsed time for isosplit6_subdivision_method: 56.446 seconds ***\n",
      "Found 42 clusters after alignment\n",
      "Computing templates\n",
      "*** MS5 Elapsed time for compute_templates: 4.483 seconds ***\n",
      "Offsetting times to peak\n",
      "Offsets to peak: [ -1   0  -2   5  -1  12   0   0   3  -5   0  -3  -2  -4  -8   3   0   3\n",
      "   0  -8  -3  -3  -5   0   0   4  -6  -1  12   0 -20  -2   0   0   8  -3\n",
      "   0   0  12   0   4   0]\n",
      "*** MS5 Elapsed time for determine_offsets_to_peak: 0.009 seconds ***\n",
      "Sorting times\n",
      "*** MS5 Elapsed time for sorting times: 0.002 seconds ***\n",
      "Removing out of bounds times\n",
      "*** MS5 Elapsed time for removing out of bounds times: 0.001 seconds ***\n",
      "Reordering units\n",
      "*** MS5 Elapsed time for reordering units: 0.008 seconds ***\n",
      "Creating sorting object\n",
      "*** MS5 Elapsed time for creating sorting object: 0.031 seconds ***\n",
      "*** MS5 Elapsed time for SCHEME2 sorting_scheme1: 170.131 seconds ***\n",
      "*** MS5 Elapsed time for SCHEME2 get_times_labels_from_sorting: 0.034 seconds ***\n",
      "Loading training traces\n",
      "*** MS5 Elapsed time for SCHEME2 training_recording.get_traces: 0.650 seconds ***\n",
      "Training classifier\n",
      "*** MS5 Elapsed time for SCHEME2 training classifier step 1: 0.061 seconds ***\n",
      "Adding snippets from phase 1 sorting\n",
      "Fitting models\n",
      "*** MS5 Elapsed time for SCHEME2 fitting models: 4.234 seconds ***\n",
      "Chunk size: 104.16666666666667 sec\n",
      "Time chunk 1 of 26\n",
      "Loading traces\n",
      "*** MS5 Elapsed time for SCHEME2 loading traces: 0.000 seconds ***\n",
      "Detecting spikes\n",
      "\n",
      "Adjacency for detect spikes with channel radius 50\n",
      "[[0], [1], [2], [3], [4], [5], [6], [7], [8], [9], [10], [11], [12], [13], [14], [15], [16], [17], [18], [19], [20], [21], [22], [23], [24], [25], [26], [27], [28], [29], [30], [31]]\n",
      "\n",
      "Scheme 2 detected 102161 spikes in chunk 1 of 26\n",
      "*** MS5 Elapsed time for SCHEME2 detecting spikes: 1.520 seconds ***\n",
      "Extracting and classifying snippets\n",
      "*** MS5 Elapsed time for SCHEME2 extracting and classifying snippets: 2.491 seconds ***\n",
      "Updating events\n",
      "Removing duplicates\n",
      "*** MS5 Elapsed time for SCHEME2 updating events: 0.206 seconds ***\n",
      "Time chunk 2 of 26\n",
      "Loading traces\n",
      "*** MS5 Elapsed time for SCHEME2 loading traces: 0.012 seconds ***\n",
      "Detecting spikes\n",
      "\n",
      "Adjacency for detect spikes with channel radius 50\n",
      "[[0], [1], [2], [3], [4], [5], [6], [7], [8], [9], [10], [11], [12], [13], [14], [15], [16], [17], [18], [19], [20], [21], [22], [23], [24], [25], [26], [27], [28], [29], [30], [31]]\n",
      "\n",
      "Scheme 2 detected 104531 spikes in chunk 2 of 26\n",
      "*** MS5 Elapsed time for SCHEME2 detecting spikes: 1.557 seconds ***\n",
      "Extracting and classifying snippets\n",
      "*** MS5 Elapsed time for SCHEME2 extracting and classifying snippets: 2.443 seconds ***\n",
      "Updating events\n",
      "Removing duplicates\n",
      "*** MS5 Elapsed time for SCHEME2 updating events: 0.209 seconds ***\n",
      "Time chunk 3 of 26\n",
      "Loading traces\n",
      "*** MS5 Elapsed time for SCHEME2 loading traces: 0.008 seconds ***\n",
      "Detecting spikes\n",
      "\n",
      "Adjacency for detect spikes with channel radius 50\n",
      "[[0], [1], [2], [3], [4], [5], [6], [7], [8], [9], [10], [11], [12], [13], [14], [15], [16], [17], [18], [19], [20], [21], [22], [23], [24], [25], [26], [27], [28], [29], [30], [31]]\n",
      "\n",
      "Scheme 2 detected 105859 spikes in chunk 3 of 26\n",
      "*** MS5 Elapsed time for SCHEME2 detecting spikes: 1.632 seconds ***\n",
      "Extracting and classifying snippets\n",
      "*** MS5 Elapsed time for SCHEME2 extracting and classifying snippets: 2.484 seconds ***\n",
      "Updating events\n",
      "Removing duplicates\n",
      "*** MS5 Elapsed time for SCHEME2 updating events: 0.213 seconds ***\n",
      "Time chunk 4 of 26\n",
      "Loading traces\n",
      "*** MS5 Elapsed time for SCHEME2 loading traces: 0.008 seconds ***\n",
      "Detecting spikes\n",
      "\n",
      "Adjacency for detect spikes with channel radius 50\n",
      "[[0], [1], [2], [3], [4], [5], [6], [7], [8], [9], [10], [11], [12], [13], [14], [15], [16], [17], [18], [19], [20], [21], [22], [23], [24], [25], [26], [27], [28], [29], [30], [31]]\n",
      "\n",
      "Scheme 2 detected 104926 spikes in chunk 4 of 26\n",
      "*** MS5 Elapsed time for SCHEME2 detecting spikes: 1.596 seconds ***\n",
      "Extracting and classifying snippets\n",
      "*** MS5 Elapsed time for SCHEME2 extracting and classifying snippets: 2.510 seconds ***\n",
      "Updating events\n",
      "Removing duplicates\n",
      "*** MS5 Elapsed time for SCHEME2 updating events: 0.216 seconds ***\n",
      "Time chunk 5 of 26\n",
      "Loading traces\n",
      "*** MS5 Elapsed time for SCHEME2 loading traces: 0.012 seconds ***\n",
      "Detecting spikes\n",
      "\n",
      "Adjacency for detect spikes with channel radius 50\n",
      "[[0], [1], [2], [3], [4], [5], [6], [7], [8], [9], [10], [11], [12], [13], [14], [15], [16], [17], [18], [19], [20], [21], [22], [23], [24], [25], [26], [27], [28], [29], [30], [31]]\n",
      "\n",
      "Scheme 2 detected 92734 spikes in chunk 5 of 26\n",
      "*** MS5 Elapsed time for SCHEME2 detecting spikes: 1.328 seconds ***\n",
      "Extracting and classifying snippets\n",
      "*** MS5 Elapsed time for SCHEME2 extracting and classifying snippets: 2.286 seconds ***\n",
      "Updating events\n",
      "Removing duplicates\n",
      "*** MS5 Elapsed time for SCHEME2 updating events: 0.186 seconds ***\n",
      "Time chunk 6 of 26\n",
      "Loading traces\n",
      "*** MS5 Elapsed time for SCHEME2 loading traces: 0.008 seconds ***\n",
      "Detecting spikes\n",
      "\n",
      "Adjacency for detect spikes with channel radius 50\n",
      "[[0], [1], [2], [3], [4], [5], [6], [7], [8], [9], [10], [11], [12], [13], [14], [15], [16], [17], [18], [19], [20], [21], [22], [23], [24], [25], [26], [27], [28], [29], [30], [31]]\n",
      "\n",
      "Scheme 2 detected 114952 spikes in chunk 6 of 26\n",
      "*** MS5 Elapsed time for SCHEME2 detecting spikes: 1.592 seconds ***\n",
      "Extracting and classifying snippets\n",
      "*** MS5 Elapsed time for SCHEME2 extracting and classifying snippets: 2.773 seconds ***\n",
      "Updating events\n",
      "Removing duplicates\n",
      "*** MS5 Elapsed time for SCHEME2 updating events: 0.217 seconds ***\n",
      "Time chunk 7 of 26\n",
      "Loading traces\n",
      "*** MS5 Elapsed time for SCHEME2 loading traces: 0.009 seconds ***\n",
      "Detecting spikes\n",
      "\n",
      "Adjacency for detect spikes with channel radius 50\n",
      "[[0], [1], [2], [3], [4], [5], [6], [7], [8], [9], [10], [11], [12], [13], [14], [15], [16], [17], [18], [19], [20], [21], [22], [23], [24], [25], [26], [27], [28], [29], [30], [31]]\n",
      "\n",
      "Scheme 2 detected 108278 spikes in chunk 7 of 26\n",
      "*** MS5 Elapsed time for SCHEME2 detecting spikes: 1.602 seconds ***\n",
      "Extracting and classifying snippets\n",
      "*** MS5 Elapsed time for SCHEME2 extracting and classifying snippets: 2.604 seconds ***\n",
      "Updating events\n",
      "Removing duplicates\n",
      "*** MS5 Elapsed time for SCHEME2 updating events: 0.209 seconds ***\n",
      "Time chunk 8 of 26\n",
      "Loading traces\n",
      "*** MS5 Elapsed time for SCHEME2 loading traces: 0.010 seconds ***\n",
      "Detecting spikes\n",
      "\n",
      "Adjacency for detect spikes with channel radius 50\n",
      "[[0], [1], [2], [3], [4], [5], [6], [7], [8], [9], [10], [11], [12], [13], [14], [15], [16], [17], [18], [19], [20], [21], [22], [23], [24], [25], [26], [27], [28], [29], [30], [31]]\n",
      "\n",
      "Scheme 2 detected 102451 spikes in chunk 8 of 26\n",
      "*** MS5 Elapsed time for SCHEME2 detecting spikes: 1.560 seconds ***\n",
      "Extracting and classifying snippets\n",
      "*** MS5 Elapsed time for SCHEME2 extracting and classifying snippets: 2.434 seconds ***\n",
      "Updating events\n",
      "Removing duplicates\n",
      "*** MS5 Elapsed time for SCHEME2 updating events: 0.198 seconds ***\n",
      "Time chunk 9 of 26\n",
      "Loading traces\n",
      "*** MS5 Elapsed time for SCHEME2 loading traces: 0.009 seconds ***\n",
      "Detecting spikes\n",
      "\n",
      "Adjacency for detect spikes with channel radius 50\n",
      "[[0], [1], [2], [3], [4], [5], [6], [7], [8], [9], [10], [11], [12], [13], [14], [15], [16], [17], [18], [19], [20], [21], [22], [23], [24], [25], [26], [27], [28], [29], [30], [31]]\n",
      "\n",
      "Scheme 2 detected 106820 spikes in chunk 9 of 26\n",
      "*** MS5 Elapsed time for SCHEME2 detecting spikes: 1.653 seconds ***\n",
      "Extracting and classifying snippets\n",
      "*** MS5 Elapsed time for SCHEME2 extracting and classifying snippets: 2.565 seconds ***\n",
      "Updating events\n",
      "Removing duplicates\n",
      "*** MS5 Elapsed time for SCHEME2 updating events: 0.202 seconds ***\n",
      "Time chunk 10 of 26\n",
      "Loading traces\n",
      "*** MS5 Elapsed time for SCHEME2 loading traces: 0.010 seconds ***\n",
      "Detecting spikes\n",
      "\n",
      "Adjacency for detect spikes with channel radius 50\n",
      "[[0], [1], [2], [3], [4], [5], [6], [7], [8], [9], [10], [11], [12], [13], [14], [15], [16], [17], [18], [19], [20], [21], [22], [23], [24], [25], [26], [27], [28], [29], [30], [31]]\n",
      "\n",
      "Scheme 2 detected 103378 spikes in chunk 10 of 26\n",
      "*** MS5 Elapsed time for SCHEME2 detecting spikes: 1.558 seconds ***\n",
      "Extracting and classifying snippets\n",
      "*** MS5 Elapsed time for SCHEME2 extracting and classifying snippets: 2.509 seconds ***\n",
      "Updating events\n",
      "Removing duplicates\n",
      "*** MS5 Elapsed time for SCHEME2 updating events: 0.201 seconds ***\n",
      "Time chunk 11 of 26\n",
      "Loading traces\n",
      "*** MS5 Elapsed time for SCHEME2 loading traces: 0.010 seconds ***\n",
      "Detecting spikes\n",
      "\n",
      "Adjacency for detect spikes with channel radius 50\n",
      "[[0], [1], [2], [3], [4], [5], [6], [7], [8], [9], [10], [11], [12], [13], [14], [15], [16], [17], [18], [19], [20], [21], [22], [23], [24], [25], [26], [27], [28], [29], [30], [31]]\n",
      "\n",
      "Scheme 2 detected 114012 spikes in chunk 11 of 26\n",
      "*** MS5 Elapsed time for SCHEME2 detecting spikes: 1.696 seconds ***\n",
      "Extracting and classifying snippets\n",
      "*** MS5 Elapsed time for SCHEME2 extracting and classifying snippets: 3.011 seconds ***\n",
      "Updating events\n",
      "Removing duplicates\n",
      "*** MS5 Elapsed time for SCHEME2 updating events: 0.230 seconds ***\n",
      "Time chunk 12 of 26\n",
      "Loading traces\n",
      "*** MS5 Elapsed time for SCHEME2 loading traces: 0.011 seconds ***\n",
      "Detecting spikes\n",
      "\n",
      "Adjacency for detect spikes with channel radius 50\n",
      "[[0], [1], [2], [3], [4], [5], [6], [7], [8], [9], [10], [11], [12], [13], [14], [15], [16], [17], [18], [19], [20], [21], [22], [23], [24], [25], [26], [27], [28], [29], [30], [31]]\n",
      "\n",
      "Scheme 2 detected 131581 spikes in chunk 12 of 26\n",
      "*** MS5 Elapsed time for SCHEME2 detecting spikes: 1.706 seconds ***\n",
      "Extracting and classifying snippets\n",
      "*** MS5 Elapsed time for SCHEME2 extracting and classifying snippets: 3.407 seconds ***\n",
      "Updating events\n",
      "Removing duplicates\n",
      "*** MS5 Elapsed time for SCHEME2 updating events: 0.261 seconds ***\n",
      "Time chunk 13 of 26\n",
      "Loading traces\n",
      "*** MS5 Elapsed time for SCHEME2 loading traces: 0.010 seconds ***\n",
      "Detecting spikes\n",
      "\n",
      "Adjacency for detect spikes with channel radius 50\n",
      "[[0], [1], [2], [3], [4], [5], [6], [7], [8], [9], [10], [11], [12], [13], [14], [15], [16], [17], [18], [19], [20], [21], [22], [23], [24], [25], [26], [27], [28], [29], [30], [31]]\n",
      "\n",
      "Scheme 2 detected 108496 spikes in chunk 13 of 26\n",
      "*** MS5 Elapsed time for SCHEME2 detecting spikes: 1.605 seconds ***\n",
      "Extracting and classifying snippets\n",
      "*** MS5 Elapsed time for SCHEME2 extracting and classifying snippets: 2.945 seconds ***\n",
      "Updating events\n",
      "Removing duplicates\n",
      "*** MS5 Elapsed time for SCHEME2 updating events: 0.218 seconds ***\n",
      "Time chunk 14 of 26\n",
      "Loading traces\n",
      "*** MS5 Elapsed time for SCHEME2 loading traces: 0.016 seconds ***\n",
      "Detecting spikes\n",
      "\n",
      "Adjacency for detect spikes with channel radius 50\n",
      "[[0], [1], [2], [3], [4], [5], [6], [7], [8], [9], [10], [11], [12], [13], [14], [15], [16], [17], [18], [19], [20], [21], [22], [23], [24], [25], [26], [27], [28], [29], [30], [31]]\n",
      "\n",
      "Scheme 2 detected 114407 spikes in chunk 14 of 26\n",
      "*** MS5 Elapsed time for SCHEME2 detecting spikes: 1.686 seconds ***\n",
      "Extracting and classifying snippets\n",
      "*** MS5 Elapsed time for SCHEME2 extracting and classifying snippets: 3.076 seconds ***\n",
      "Updating events\n",
      "Removing duplicates\n",
      "*** MS5 Elapsed time for SCHEME2 updating events: 0.228 seconds ***\n",
      "Time chunk 15 of 26\n",
      "Loading traces\n",
      "*** MS5 Elapsed time for SCHEME2 loading traces: 0.010 seconds ***\n",
      "Detecting spikes\n",
      "\n",
      "Adjacency for detect spikes with channel radius 50\n",
      "[[0], [1], [2], [3], [4], [5], [6], [7], [8], [9], [10], [11], [12], [13], [14], [15], [16], [17], [18], [19], [20], [21], [22], [23], [24], [25], [26], [27], [28], [29], [30], [31]]\n",
      "\n",
      "Scheme 2 detected 112600 spikes in chunk 15 of 26\n",
      "*** MS5 Elapsed time for SCHEME2 detecting spikes: 1.634 seconds ***\n",
      "Extracting and classifying snippets\n",
      "*** MS5 Elapsed time for SCHEME2 extracting and classifying snippets: 3.024 seconds ***\n",
      "Updating events\n",
      "Removing duplicates\n",
      "*** MS5 Elapsed time for SCHEME2 updating events: 0.230 seconds ***\n",
      "Time chunk 16 of 26\n",
      "Loading traces\n",
      "*** MS5 Elapsed time for SCHEME2 loading traces: 0.012 seconds ***\n",
      "Detecting spikes\n",
      "\n",
      "Adjacency for detect spikes with channel radius 50\n",
      "[[0], [1], [2], [3], [4], [5], [6], [7], [8], [9], [10], [11], [12], [13], [14], [15], [16], [17], [18], [19], [20], [21], [22], [23], [24], [25], [26], [27], [28], [29], [30], [31]]\n",
      "\n",
      "Scheme 2 detected 116980 spikes in chunk 16 of 26\n",
      "*** MS5 Elapsed time for SCHEME2 detecting spikes: 1.651 seconds ***\n",
      "Extracting and classifying snippets\n",
      "*** MS5 Elapsed time for SCHEME2 extracting and classifying snippets: 3.041 seconds ***\n",
      "Updating events\n",
      "Removing duplicates\n",
      "*** MS5 Elapsed time for SCHEME2 updating events: 0.237 seconds ***\n",
      "Time chunk 17 of 26\n",
      "Loading traces\n",
      "*** MS5 Elapsed time for SCHEME2 loading traces: 0.010 seconds ***\n",
      "Detecting spikes\n",
      "\n",
      "Adjacency for detect spikes with channel radius 50\n",
      "[[0], [1], [2], [3], [4], [5], [6], [7], [8], [9], [10], [11], [12], [13], [14], [15], [16], [17], [18], [19], [20], [21], [22], [23], [24], [25], [26], [27], [28], [29], [30], [31]]\n",
      "\n",
      "Scheme 2 detected 111242 spikes in chunk 17 of 26\n",
      "*** MS5 Elapsed time for SCHEME2 detecting spikes: 1.620 seconds ***\n",
      "Extracting and classifying snippets\n",
      "*** MS5 Elapsed time for SCHEME2 extracting and classifying snippets: 2.953 seconds ***\n",
      "Updating events\n",
      "Removing duplicates\n",
      "*** MS5 Elapsed time for SCHEME2 updating events: 0.241 seconds ***\n",
      "Time chunk 18 of 26\n",
      "Loading traces\n",
      "*** MS5 Elapsed time for SCHEME2 loading traces: 0.008 seconds ***\n",
      "Detecting spikes\n",
      "\n",
      "Adjacency for detect spikes with channel radius 50\n",
      "[[0], [1], [2], [3], [4], [5], [6], [7], [8], [9], [10], [11], [12], [13], [14], [15], [16], [17], [18], [19], [20], [21], [22], [23], [24], [25], [26], [27], [28], [29], [30], [31]]\n",
      "\n",
      "Scheme 2 detected 115807 spikes in chunk 18 of 26\n",
      "*** MS5 Elapsed time for SCHEME2 detecting spikes: 1.613 seconds ***\n",
      "Extracting and classifying snippets\n",
      "*** MS5 Elapsed time for SCHEME2 extracting and classifying snippets: 3.037 seconds ***\n",
      "Updating events\n",
      "Removing duplicates\n",
      "*** MS5 Elapsed time for SCHEME2 updating events: 0.238 seconds ***\n",
      "Time chunk 19 of 26\n",
      "Loading traces\n",
      "*** MS5 Elapsed time for SCHEME2 loading traces: 0.009 seconds ***\n",
      "Detecting spikes\n",
      "\n",
      "Adjacency for detect spikes with channel radius 50\n",
      "[[0], [1], [2], [3], [4], [5], [6], [7], [8], [9], [10], [11], [12], [13], [14], [15], [16], [17], [18], [19], [20], [21], [22], [23], [24], [25], [26], [27], [28], [29], [30], [31]]\n",
      "\n",
      "Scheme 2 detected 108010 spikes in chunk 19 of 26\n",
      "*** MS5 Elapsed time for SCHEME2 detecting spikes: 1.599 seconds ***\n",
      "Extracting and classifying snippets\n",
      "*** MS5 Elapsed time for SCHEME2 extracting and classifying snippets: 2.944 seconds ***\n",
      "Updating events\n",
      "Removing duplicates\n",
      "*** MS5 Elapsed time for SCHEME2 updating events: 0.237 seconds ***\n",
      "Time chunk 20 of 26\n",
      "Loading traces\n",
      "*** MS5 Elapsed time for SCHEME2 loading traces: 0.010 seconds ***\n",
      "Detecting spikes\n",
      "\n",
      "Adjacency for detect spikes with channel radius 50\n",
      "[[0], [1], [2], [3], [4], [5], [6], [7], [8], [9], [10], [11], [12], [13], [14], [15], [16], [17], [18], [19], [20], [21], [22], [23], [24], [25], [26], [27], [28], [29], [30], [31]]\n",
      "\n",
      "Scheme 2 detected 106366 spikes in chunk 20 of 26\n",
      "*** MS5 Elapsed time for SCHEME2 detecting spikes: 1.478 seconds ***\n",
      "Extracting and classifying snippets\n",
      "*** MS5 Elapsed time for SCHEME2 extracting and classifying snippets: 2.967 seconds ***\n",
      "Updating events\n",
      "Removing duplicates\n",
      "*** MS5 Elapsed time for SCHEME2 updating events: 0.228 seconds ***\n",
      "Time chunk 21 of 26\n",
      "Loading traces\n",
      "*** MS5 Elapsed time for SCHEME2 loading traces: 0.008 seconds ***\n",
      "Detecting spikes\n",
      "\n",
      "Adjacency for detect spikes with channel radius 50\n",
      "[[0], [1], [2], [3], [4], [5], [6], [7], [8], [9], [10], [11], [12], [13], [14], [15], [16], [17], [18], [19], [20], [21], [22], [23], [24], [25], [26], [27], [28], [29], [30], [31]]\n",
      "\n",
      "Scheme 2 detected 120127 spikes in chunk 21 of 26\n",
      "*** MS5 Elapsed time for SCHEME2 detecting spikes: 1.821 seconds ***\n",
      "Extracting and classifying snippets\n",
      "*** MS5 Elapsed time for SCHEME2 extracting and classifying snippets: 3.173 seconds ***\n",
      "Updating events\n",
      "Removing duplicates\n",
      "*** MS5 Elapsed time for SCHEME2 updating events: 0.249 seconds ***\n",
      "Time chunk 22 of 26\n",
      "Loading traces\n",
      "*** MS5 Elapsed time for SCHEME2 loading traces: 0.008 seconds ***\n",
      "Detecting spikes\n",
      "\n",
      "Adjacency for detect spikes with channel radius 50\n",
      "[[0], [1], [2], [3], [4], [5], [6], [7], [8], [9], [10], [11], [12], [13], [14], [15], [16], [17], [18], [19], [20], [21], [22], [23], [24], [25], [26], [27], [28], [29], [30], [31]]\n",
      "\n",
      "Scheme 2 detected 116321 spikes in chunk 22 of 26\n",
      "*** MS5 Elapsed time for SCHEME2 detecting spikes: 1.928 seconds ***\n",
      "Extracting and classifying snippets\n",
      "*** MS5 Elapsed time for SCHEME2 extracting and classifying snippets: 3.038 seconds ***\n",
      "Updating events\n",
      "Removing duplicates\n",
      "*** MS5 Elapsed time for SCHEME2 updating events: 0.253 seconds ***\n",
      "Time chunk 23 of 26\n",
      "Loading traces\n",
      "*** MS5 Elapsed time for SCHEME2 loading traces: 0.008 seconds ***\n",
      "Detecting spikes\n",
      "\n",
      "Adjacency for detect spikes with channel radius 50\n",
      "[[0], [1], [2], [3], [4], [5], [6], [7], [8], [9], [10], [11], [12], [13], [14], [15], [16], [17], [18], [19], [20], [21], [22], [23], [24], [25], [26], [27], [28], [29], [30], [31]]\n",
      "\n",
      "Scheme 2 detected 109474 spikes in chunk 23 of 26\n",
      "*** MS5 Elapsed time for SCHEME2 detecting spikes: 1.909 seconds ***\n",
      "Extracting and classifying snippets\n",
      "*** MS5 Elapsed time for SCHEME2 extracting and classifying snippets: 3.077 seconds ***\n",
      "Updating events\n",
      "Removing duplicates\n",
      "*** MS5 Elapsed time for SCHEME2 updating events: 0.237 seconds ***\n",
      "Time chunk 24 of 26\n",
      "Loading traces\n",
      "*** MS5 Elapsed time for SCHEME2 loading traces: 0.009 seconds ***\n",
      "Detecting spikes\n",
      "\n",
      "Adjacency for detect spikes with channel radius 50\n",
      "[[0], [1], [2], [3], [4], [5], [6], [7], [8], [9], [10], [11], [12], [13], [14], [15], [16], [17], [18], [19], [20], [21], [22], [23], [24], [25], [26], [27], [28], [29], [30], [31]]\n",
      "\n",
      "Scheme 2 detected 97450 spikes in chunk 24 of 26\n",
      "*** MS5 Elapsed time for SCHEME2 detecting spikes: 1.734 seconds ***\n",
      "Extracting and classifying snippets\n",
      "*** MS5 Elapsed time for SCHEME2 extracting and classifying snippets: 2.653 seconds ***\n",
      "Updating events\n",
      "Removing duplicates\n",
      "*** MS5 Elapsed time for SCHEME2 updating events: 0.225 seconds ***\n",
      "Time chunk 25 of 26\n",
      "Loading traces\n",
      "*** MS5 Elapsed time for SCHEME2 loading traces: 0.012 seconds ***\n",
      "Detecting spikes\n",
      "\n",
      "Adjacency for detect spikes with channel radius 50\n",
      "[[0], [1], [2], [3], [4], [5], [6], [7], [8], [9], [10], [11], [12], [13], [14], [15], [16], [17], [18], [19], [20], [21], [22], [23], [24], [25], [26], [27], [28], [29], [30], [31]]\n",
      "\n",
      "Scheme 2 detected 104081 spikes in chunk 25 of 26\n",
      "*** MS5 Elapsed time for SCHEME2 detecting spikes: 1.540 seconds ***\n",
      "Extracting and classifying snippets\n",
      "*** MS5 Elapsed time for SCHEME2 extracting and classifying snippets: 2.858 seconds ***\n",
      "Updating events\n",
      "Removing duplicates\n",
      "*** MS5 Elapsed time for SCHEME2 updating events: 0.226 seconds ***\n",
      "Time chunk 26 of 26\n",
      "Loading traces\n",
      "*** MS5 Elapsed time for SCHEME2 loading traces: 0.010 seconds ***\n",
      "Detecting spikes\n",
      "\n",
      "Adjacency for detect spikes with channel radius 50\n",
      "[[0], [1], [2], [3], [4], [5], [6], [7], [8], [9], [10], [11], [12], [13], [14], [15], [16], [17], [18], [19], [20], [21], [22], [23], [24], [25], [26], [27], [28], [29], [30], [31]]\n",
      "\n",
      "Scheme 2 detected 138763 spikes in chunk 26 of 26\n",
      "*** MS5 Elapsed time for SCHEME2 detecting spikes: 2.124 seconds ***\n",
      "Extracting and classifying snippets\n",
      "*** MS5 Elapsed time for SCHEME2 extracting and classifying snippets: 3.453 seconds ***\n",
      "Updating events\n",
      "Removing duplicates\n",
      "*** MS5 Elapsed time for SCHEME2 updating events: 0.264 seconds ***\n",
      "Concatenating results\n",
      "*** MS5 Elapsed time for SCHEME2 concatenating results: 0.092 seconds ***\n",
      "Perorming label mapping\n",
      "*** MS5 Elapsed time for SCHEME2 label mapping: 0.000 seconds ***\n",
      "Creating sorting object\n",
      "*** MS5 Elapsed time for SCHEME2 creating sorting object: 0.493 seconds ***\n",
      "mountainsort5 run time 352.06s\n"
     ]
    }
   ],
   "source": [
    "sorting_data = si.run_sorter(sorter_name=method,\n",
    "                             recording=recording_saved,\n",
    "                             remove_existing_folder=True,\n",
    "                             output_folder=sort_output_folder,\n",
    "                             docker_image=dker,\n",
    "                             verbose=True,\n",
    "                             **params)"
   ]
  },
  {
   "cell_type": "code",
   "execution_count": 18,
   "id": "0297dd38-7670-4bc1-a6cb-07380df95f6a",
   "metadata": {},
   "outputs": [
    {
     "data": {
      "text/plain": [
       "NumpyFolderSorting: 41 units - 1 segments - 30.0kHz"
      ]
     },
     "execution_count": 18,
     "metadata": {},
     "output_type": "execute_result"
    }
   ],
   "source": [
    "sorting_data.save(folder = sort_output_folder, overwrite=True)"
   ]
  },
  {
   "cell_type": "code",
   "execution_count": 19,
   "id": "ed201323-ab40-48f7-8dd9-dd14e8d2e3b4",
   "metadata": {},
   "outputs": [
    {
     "data": {
      "application/vnd.jupyter.widget-view+json": {
       "model_id": "cf1061bb7bd14daebc23abac3fd821b1",
       "version_major": 2,
       "version_minor": 0
      },
      "text/plain": [
       "extract waveforms memmap multi buffer:   0%|          | 0/2747 [00:00<?, ?it/s]"
      ]
     },
     "metadata": {},
     "output_type": "display_data"
    },
    {
     "name": "stdout",
     "output_type": "stream",
     "text": [
      "WaveformExtractor: 32 channels - 41 units - 1 segments\n",
      "  before:30 after:60 n_per_units:500\n"
     ]
    }
   ],
   "source": [
    "we = si.extract_waveforms(recording_saved, sorting_data,\n",
    "                          folder = waveform_folder,\n",
    "                          sparse = False, overwrite=True)\n",
    "print(we)\n",
    "sparsity = si.compute_sparsity(we, method='radius', radius_um=80.0)"
   ]
  },
  {
   "cell_type": "code",
   "execution_count": 20,
   "id": "4732c3e0-c6c3-4fe0-9ee1-2bb350bff42a",
   "metadata": {},
   "outputs": [
    {
     "data": {
      "application/vnd.jupyter.widget-view+json": {
       "model_id": "3ae727e87c224de29638920dbb6f1cdd",
       "version_major": 2,
       "version_minor": 0
      },
      "text/plain": [
       "extract waveforms memmap multi buffer:   0%|          | 0/2747 [00:00<?, ?it/s]"
      ]
     },
     "metadata": {},
     "output_type": "display_data"
    },
    {
     "name": "stdout",
     "output_type": "stream",
     "text": [
      "WaveformExtractor: 32 channels - 41 units - 1 segments\n",
      "  before:30 after:60 n_per_units:500 - sparse\n"
     ]
    }
   ],
   "source": [
    "we = si.extract_waveforms(recording_saved, sorting_data,\n",
    "                          folder = waveform_folder,\n",
    "                          sparsity = sparsity,\n",
    "                          overwrite=True)\n",
    "print(we)"
   ]
  },
  {
   "cell_type": "code",
   "execution_count": 21,
   "id": "eec991aa-a3c8-456e-8bb5-06d238a7894d",
   "metadata": {},
   "outputs": [
    {
     "data": {
      "application/vnd.jupyter.widget-view+json": {
       "model_id": "449dc8207c3c490e9fed24cad2326431",
       "version_major": 2,
       "version_minor": 0
      },
      "text/plain": [
       "Fitting PCA:   0%|          | 0/41 [00:00<?, ?it/s]"
      ]
     },
     "metadata": {},
     "output_type": "display_data"
    },
    {
     "data": {
      "application/vnd.jupyter.widget-view+json": {
       "model_id": "fee93222291e48beb476d8aa79018db9",
       "version_major": 2,
       "version_minor": 0
      },
      "text/plain": [
       "Projecting waveforms:   0%|          | 0/41 [00:00<?, ?it/s]"
      ]
     },
     "metadata": {},
     "output_type": "display_data"
    }
   ],
   "source": [
    "pc = si.compute_principal_components(we, mode='by_channel_global', n_components=3, load_if_exists=False)"
   ]
  },
  {
   "cell_type": "code",
   "execution_count": 22,
   "id": "efd3396c-fdca-4697-b740-11a7817282ff",
   "metadata": {},
   "outputs": [
    {
     "data": {
      "application/vnd.jupyter.widget-view+json": {
       "model_id": "106a93dac66f4be68c4979f4284ff7ce",
       "version_major": 2,
       "version_minor": 0
      },
      "text/plain": [
       "extract amplitudes:   0%|          | 0/2747 [00:00<?, ?it/s]"
      ]
     },
     "metadata": {},
     "output_type": "display_data"
    },
    {
     "data": {
      "application/vnd.jupyter.widget-view+json": {
       "model_id": "4b02dc0edef144a697853798972fded5",
       "version_major": 2,
       "version_minor": 0
      },
      "text/plain": [
       "extract PCs:   0%|          | 0/2747 [00:00<?, ?it/s]"
      ]
     },
     "metadata": {},
     "output_type": "display_data"
    },
    {
     "name": "stdout",
     "output_type": "stream",
     "text": [
      "Run:\n",
      "phy template-gui  /home/bple/projects/sorting-data/phy-mountainsort5/params.py\n"
     ]
    }
   ],
   "source": [
    "si.export_to_phy(we,\n",
    "                 output_folder=phy_output_folder,\n",
    "                 compute_amplitudes=True,\n",
    "                 compute_pc_features=True,\n",
    "                 remove_if_exists=True,\n",
    "                 copy_binary=False,\n",
    "                 )"
   ]
  },
  {
   "cell_type": "code",
   "execution_count": null,
   "id": "7edee6a7-b9cb-4dad-add0-c65d7b22394d",
   "metadata": {},
   "outputs": [],
   "source": []
  }
 ],
 "metadata": {
  "kernelspec": {
   "display_name": "Python 3 (ipykernel)",
   "language": "python",
   "name": "python3"
  },
  "language_info": {
   "codemirror_mode": {
    "name": "ipython",
    "version": 3
   },
   "file_extension": ".py",
   "mimetype": "text/x-python",
   "name": "python",
   "nbconvert_exporter": "python",
   "pygments_lexer": "ipython3",
   "version": "3.11.6"
  }
 },
 "nbformat": 4,
 "nbformat_minor": 5
}
